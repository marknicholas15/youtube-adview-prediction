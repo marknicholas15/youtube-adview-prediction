{
 "cells": [
  {
   "cell_type": "markdown",
   "metadata": {},
   "source": [
    "# Import Libraries"
   ]
  },
  {
   "cell_type": "code",
   "execution_count": 1,
   "metadata": {},
   "outputs": [
    {
     "name": "stderr",
     "output_type": "stream",
     "text": [
      "Using TensorFlow backend.\n"
     ]
    }
   ],
   "source": [
    "import datetime\n",
    "import time\n",
    "import pandas as pd\n",
    "import numpy as np\n",
    "import matplotlib.cm as cm\n",
    "import matplotlib.pyplot as plt\n",
    "import seaborn as sns\n",
    "import joblib\n",
    "import keras\n",
    "from sklearn.preprocessing import LabelEncoder, MinMaxScaler\n",
    "from sklearn.model_selection import train_test_split\n",
    "from sklearn.metrics import mean_squared_error, mean_absolute_error, r2_score\n",
    "from sklearn.linear_model import LinearRegression, LogisticRegression\n",
    "from sklearn.svm import SVR\n",
    "from sklearn.tree import DecisionTreeRegressor\n",
    "from sklearn.ensemble import RandomForestRegressor\n",
    "from sklearn.model_selection import RandomizedSearchCV"
   ]
  },
  {
   "cell_type": "code",
   "execution_count": 2,
   "metadata": {},
   "outputs": [],
   "source": [
    "# load data\n",
    "train = pd.read_csv('train.csv')\n",
    "test = pd.read_csv('test.csv')"
   ]
  },
  {
   "cell_type": "code",
   "execution_count": 3,
   "metadata": {},
   "outputs": [
    {
     "data": {
      "text/html": [
       "<div>\n",
       "<style scoped>\n",
       "    .dataframe tbody tr th:only-of-type {\n",
       "        vertical-align: middle;\n",
       "    }\n",
       "\n",
       "    .dataframe tbody tr th {\n",
       "        vertical-align: top;\n",
       "    }\n",
       "\n",
       "    .dataframe thead th {\n",
       "        text-align: right;\n",
       "    }\n",
       "</style>\n",
       "<table border=\"1\" class=\"dataframe\">\n",
       "  <thead>\n",
       "    <tr style=\"text-align: right;\">\n",
       "      <th></th>\n",
       "      <th>vidid</th>\n",
       "      <th>adview</th>\n",
       "      <th>views</th>\n",
       "      <th>likes</th>\n",
       "      <th>dislikes</th>\n",
       "      <th>comment</th>\n",
       "      <th>published</th>\n",
       "      <th>duration</th>\n",
       "      <th>category</th>\n",
       "    </tr>\n",
       "  </thead>\n",
       "  <tbody>\n",
       "    <tr>\n",
       "      <th>0</th>\n",
       "      <td>VID_18655</td>\n",
       "      <td>40</td>\n",
       "      <td>1031602</td>\n",
       "      <td>8523</td>\n",
       "      <td>363</td>\n",
       "      <td>1095</td>\n",
       "      <td>2016-09-14</td>\n",
       "      <td>PT7M37S</td>\n",
       "      <td>F</td>\n",
       "    </tr>\n",
       "    <tr>\n",
       "      <th>1</th>\n",
       "      <td>VID_14135</td>\n",
       "      <td>2</td>\n",
       "      <td>1707</td>\n",
       "      <td>56</td>\n",
       "      <td>2</td>\n",
       "      <td>6</td>\n",
       "      <td>2016-10-01</td>\n",
       "      <td>PT9M30S</td>\n",
       "      <td>D</td>\n",
       "    </tr>\n",
       "    <tr>\n",
       "      <th>2</th>\n",
       "      <td>VID_2187</td>\n",
       "      <td>1</td>\n",
       "      <td>2023</td>\n",
       "      <td>25</td>\n",
       "      <td>0</td>\n",
       "      <td>2</td>\n",
       "      <td>2016-07-02</td>\n",
       "      <td>PT2M16S</td>\n",
       "      <td>C</td>\n",
       "    </tr>\n",
       "    <tr>\n",
       "      <th>3</th>\n",
       "      <td>VID_23096</td>\n",
       "      <td>6</td>\n",
       "      <td>620860</td>\n",
       "      <td>777</td>\n",
       "      <td>161</td>\n",
       "      <td>153</td>\n",
       "      <td>2016-07-27</td>\n",
       "      <td>PT4M22S</td>\n",
       "      <td>H</td>\n",
       "    </tr>\n",
       "    <tr>\n",
       "      <th>4</th>\n",
       "      <td>VID_10175</td>\n",
       "      <td>1</td>\n",
       "      <td>666</td>\n",
       "      <td>1</td>\n",
       "      <td>0</td>\n",
       "      <td>0</td>\n",
       "      <td>2016-06-29</td>\n",
       "      <td>PT31S</td>\n",
       "      <td>D</td>\n",
       "    </tr>\n",
       "  </tbody>\n",
       "</table>\n",
       "</div>"
      ],
      "text/plain": [
       "       vidid  adview    views likes dislikes comment   published duration  \\\n",
       "0  VID_18655      40  1031602  8523      363    1095  2016-09-14  PT7M37S   \n",
       "1  VID_14135       2     1707    56        2       6  2016-10-01  PT9M30S   \n",
       "2   VID_2187       1     2023    25        0       2  2016-07-02  PT2M16S   \n",
       "3  VID_23096       6   620860   777      161     153  2016-07-27  PT4M22S   \n",
       "4  VID_10175       1      666     1        0       0  2016-06-29    PT31S   \n",
       "\n",
       "  category  \n",
       "0        F  \n",
       "1        D  \n",
       "2        C  \n",
       "3        H  \n",
       "4        D  "
      ]
     },
     "execution_count": 3,
     "metadata": {},
     "output_type": "execute_result"
    }
   ],
   "source": [
    "train.head()"
   ]
  },
  {
   "cell_type": "code",
   "execution_count": 4,
   "metadata": {},
   "outputs": [],
   "source": [
    "categories = {\"A\": 1, \"B\": 2, \"C\": 3, \"D\": 4, \"E\": 5, \"F\": 6, \"G\": 7, \"H\": 8}\n",
    "\n",
    "train[\"category\"] = train[\"category\"].map(categories)\n",
    "test[\"category\"] = test[\"category\"].map(categories)"
   ]
  },
  {
   "cell_type": "code",
   "execution_count": 5,
   "metadata": {},
   "outputs": [],
   "source": [
    "# exclude 'F' from each column\n",
    "train=train[train.views!='F']\n",
    "train=train[train.likes!='F']\n",
    "train=train[train.dislikes!='F']\n",
    "train=train[train.comment!='F']\n",
    "train['views'] = pd.to_numeric(train['views'])\n",
    "train['likes'] = pd.to_numeric(train['likes'])\n",
    "train['dislikes'] = pd.to_numeric(train['dislikes'])\n",
    "train['comment'] = pd.to_numeric(train['comment'])\n",
    "train['adview'] = pd.to_numeric(train['adview'])\n",
    "\n",
    "test = test[test.views!='F']\n",
    "test = test[test.likes!='F']\n",
    "test = test[test.dislikes!='F']\n",
    "test = test[test.comment!='F']\n",
    "test['views'] = pd.to_numeric(test['views'])\n",
    "test['likes'] = pd.to_numeric(test['likes'])\n",
    "test['dislikes'] = pd.to_numeric(test['dislikes'])\n",
    "test['comment'] = pd.to_numeric(test['comment'])"
   ]
  },
  {
   "cell_type": "markdown",
   "metadata": {},
   "source": [
    "## Preprocessing"
   ]
  },
  {
   "cell_type": "code",
   "execution_count": 6,
   "metadata": {},
   "outputs": [],
   "source": [
    "from sklearn.preprocessing import LabelEncoder\n",
    "train['duration'] = LabelEncoder().fit_transform(train['duration'])\n",
    "train['vidid'] = LabelEncoder().fit_transform(train['vidid'])\n",
    "train['published'] = LabelEncoder().fit_transform(train['published'])\n",
    "\n",
    "test['duration'] = LabelEncoder().fit_transform(test['duration'])\n",
    "test['vidid'] = LabelEncoder().fit_transform(test['vidid'])\n",
    "test['published'] = LabelEncoder().fit_transform(test['published'])"
   ]
  },
  {
   "cell_type": "code",
   "execution_count": 7,
   "metadata": {},
   "outputs": [],
   "source": [
    "def checki(x):\n",
    "    y = x[2:]\n",
    "    h, m, s, mm = \"\", \"\", \"\", \"\"\n",
    "    P = [\"H\", \"M\", \"S\"]\n",
    "    for i in y:\n",
    "        if i not in P:\n",
    "            mm += i\n",
    "        else:\n",
    "            if i == P[0]:\n",
    "                h = mm\n",
    "                mm = \"\"\n",
    "            elif i == P[1]:\n",
    "                m = mm\n",
    "                mm = \"\"\n",
    "            else:\n",
    "                s = mm\n",
    "                mm = \"\"\n",
    "    if h == \"\":\n",
    "        h = \"00\"\n",
    "    if m == \"\":\n",
    "        m = \"00\"\n",
    "    if s == \"\":\n",
    "        s = \"00\"\n",
    "    bp = h + \":\" + m + \":\" + s\n",
    "    return bp"
   ]
  },
  {
   "cell_type": "code",
   "execution_count": 8,
   "metadata": {},
   "outputs": [],
   "source": [
    "def func_sec(time_str):\n",
    "    h, m, s = time_str.split(\":\")\n",
    "    return int(h) * 3600 + int(m) * 60 + int(s)"
   ]
  },
  {
   "cell_type": "code",
   "execution_count": 9,
   "metadata": {},
   "outputs": [],
   "source": [
    "mp_train = pd.read_csv('train.csv')['duration']\n",
    "mp_test = pd.read_csv('test.csv')['duration']\n",
    "time_train = mp_train.apply(checki)\n",
    "time_test = mp_test.apply(checki)\n",
    "\n",
    "time_1 = time_train.apply(func_sec)\n",
    "time_2 = time_test.apply(func_sec)\n",
    "\n",
    "train['duration'] = time_1\n",
    "test['duration'] = time_2"
   ]
  },
  {
   "cell_type": "code",
   "execution_count": 10,
   "metadata": {},
   "outputs": [
    {
     "data": {
      "text/html": [
       "<div>\n",
       "<style scoped>\n",
       "    .dataframe tbody tr th:only-of-type {\n",
       "        vertical-align: middle;\n",
       "    }\n",
       "\n",
       "    .dataframe tbody tr th {\n",
       "        vertical-align: top;\n",
       "    }\n",
       "\n",
       "    .dataframe thead th {\n",
       "        text-align: right;\n",
       "    }\n",
       "</style>\n",
       "<table border=\"1\" class=\"dataframe\">\n",
       "  <thead>\n",
       "    <tr style=\"text-align: right;\">\n",
       "      <th></th>\n",
       "      <th>vidid</th>\n",
       "      <th>adview</th>\n",
       "      <th>views</th>\n",
       "      <th>likes</th>\n",
       "      <th>dislikes</th>\n",
       "      <th>comment</th>\n",
       "      <th>published</th>\n",
       "      <th>duration</th>\n",
       "      <th>category</th>\n",
       "    </tr>\n",
       "  </thead>\n",
       "  <tbody>\n",
       "    <tr>\n",
       "      <th>vidid</th>\n",
       "      <td>1.000000</td>\n",
       "      <td>-0.014456</td>\n",
       "      <td>-0.047528</td>\n",
       "      <td>-0.128769</td>\n",
       "      <td>-0.076344</td>\n",
       "      <td>-0.081038</td>\n",
       "      <td>-0.144433</td>\n",
       "      <td>0.006903</td>\n",
       "      <td>-0.038885</td>\n",
       "    </tr>\n",
       "    <tr>\n",
       "      <th>adview</th>\n",
       "      <td>-0.014456</td>\n",
       "      <td>1.000000</td>\n",
       "      <td>0.032807</td>\n",
       "      <td>0.044650</td>\n",
       "      <td>0.036609</td>\n",
       "      <td>0.016104</td>\n",
       "      <td>0.039276</td>\n",
       "      <td>-0.012710</td>\n",
       "      <td>0.008065</td>\n",
       "    </tr>\n",
       "    <tr>\n",
       "      <th>views</th>\n",
       "      <td>-0.047528</td>\n",
       "      <td>0.032807</td>\n",
       "      <td>1.000000</td>\n",
       "      <td>0.726716</td>\n",
       "      <td>0.730320</td>\n",
       "      <td>0.410662</td>\n",
       "      <td>0.020330</td>\n",
       "      <td>0.002509</td>\n",
       "      <td>0.033055</td>\n",
       "    </tr>\n",
       "    <tr>\n",
       "      <th>likes</th>\n",
       "      <td>-0.128769</td>\n",
       "      <td>0.044650</td>\n",
       "      <td>0.726716</td>\n",
       "      <td>1.000000</td>\n",
       "      <td>0.648876</td>\n",
       "      <td>0.651202</td>\n",
       "      <td>0.097183</td>\n",
       "      <td>-0.042572</td>\n",
       "      <td>-0.008875</td>\n",
       "    </tr>\n",
       "    <tr>\n",
       "      <th>dislikes</th>\n",
       "      <td>-0.076344</td>\n",
       "      <td>0.036609</td>\n",
       "      <td>0.730320</td>\n",
       "      <td>0.648876</td>\n",
       "      <td>1.000000</td>\n",
       "      <td>0.532548</td>\n",
       "      <td>0.044100</td>\n",
       "      <td>0.001495</td>\n",
       "      <td>0.011759</td>\n",
       "    </tr>\n",
       "    <tr>\n",
       "      <th>comment</th>\n",
       "      <td>-0.081038</td>\n",
       "      <td>0.016104</td>\n",
       "      <td>0.410662</td>\n",
       "      <td>0.651202</td>\n",
       "      <td>0.532548</td>\n",
       "      <td>1.000000</td>\n",
       "      <td>0.114334</td>\n",
       "      <td>-0.037499</td>\n",
       "      <td>-0.034003</td>\n",
       "    </tr>\n",
       "    <tr>\n",
       "      <th>published</th>\n",
       "      <td>-0.144433</td>\n",
       "      <td>0.039276</td>\n",
       "      <td>0.020330</td>\n",
       "      <td>0.097183</td>\n",
       "      <td>0.044100</td>\n",
       "      <td>0.114334</td>\n",
       "      <td>1.000000</td>\n",
       "      <td>0.011942</td>\n",
       "      <td>-0.056659</td>\n",
       "    </tr>\n",
       "    <tr>\n",
       "      <th>duration</th>\n",
       "      <td>0.006903</td>\n",
       "      <td>-0.012710</td>\n",
       "      <td>0.002509</td>\n",
       "      <td>-0.042572</td>\n",
       "      <td>0.001495</td>\n",
       "      <td>-0.037499</td>\n",
       "      <td>0.011942</td>\n",
       "      <td>1.000000</td>\n",
       "      <td>0.049195</td>\n",
       "    </tr>\n",
       "    <tr>\n",
       "      <th>category</th>\n",
       "      <td>-0.038885</td>\n",
       "      <td>0.008065</td>\n",
       "      <td>0.033055</td>\n",
       "      <td>-0.008875</td>\n",
       "      <td>0.011759</td>\n",
       "      <td>-0.034003</td>\n",
       "      <td>-0.056659</td>\n",
       "      <td>0.049195</td>\n",
       "      <td>1.000000</td>\n",
       "    </tr>\n",
       "  </tbody>\n",
       "</table>\n",
       "</div>"
      ],
      "text/plain": [
       "              vidid    adview     views     likes  dislikes   comment  \\\n",
       "vidid      1.000000 -0.014456 -0.047528 -0.128769 -0.076344 -0.081038   \n",
       "adview    -0.014456  1.000000  0.032807  0.044650  0.036609  0.016104   \n",
       "views     -0.047528  0.032807  1.000000  0.726716  0.730320  0.410662   \n",
       "likes     -0.128769  0.044650  0.726716  1.000000  0.648876  0.651202   \n",
       "dislikes  -0.076344  0.036609  0.730320  0.648876  1.000000  0.532548   \n",
       "comment   -0.081038  0.016104  0.410662  0.651202  0.532548  1.000000   \n",
       "published -0.144433  0.039276  0.020330  0.097183  0.044100  0.114334   \n",
       "duration   0.006903 -0.012710  0.002509 -0.042572  0.001495 -0.037499   \n",
       "category  -0.038885  0.008065  0.033055 -0.008875  0.011759 -0.034003   \n",
       "\n",
       "           published  duration  category  \n",
       "vidid      -0.144433  0.006903 -0.038885  \n",
       "adview      0.039276 -0.012710  0.008065  \n",
       "views       0.020330  0.002509  0.033055  \n",
       "likes       0.097183 -0.042572 -0.008875  \n",
       "dislikes    0.044100  0.001495  0.011759  \n",
       "comment     0.114334 -0.037499 -0.034003  \n",
       "published   1.000000  0.011942 -0.056659  \n",
       "duration    0.011942  1.000000  0.049195  \n",
       "category   -0.056659  0.049195  1.000000  "
      ]
     },
     "execution_count": 10,
     "metadata": {},
     "output_type": "execute_result"
    }
   ],
   "source": [
    "# corr\n",
    "train.corr()"
   ]
  },
  {
   "cell_type": "code",
   "execution_count": 11,
   "metadata": {},
   "outputs": [
    {
     "data": {
      "image/png": "[encoded data removed]",
      "text/plain": [
       "<Figure size 720x576 with 2 Axes>"
      ]
     },
     "metadata": {
      "needs_background": "light"
     },
     "output_type": "display_data"
    }
   ],
   "source": [
    "f, ax = plt.subplots(figsize=(10, 8))\n",
    "corr= train.corr()\n",
    "sns.heatmap(corr, mask = np.zeros_like(corr, dtype=np.bool), \n",
    "            cmap=sns.diverging_palette(220, 10, as_cmap=True),\n",
    "           square = True, ax= ax, annot=True)\n",
    "plt.show()"
   ]
  },
  {
   "cell_type": "code",
   "execution_count": 12,
   "metadata": {},
   "outputs": [],
   "source": [
    "# split data\n",
    "X = train.iloc[:, 2:9]\n",
    "y = train.iloc[:, 1]"
   ]
  },
  {
   "cell_type": "code",
   "execution_count": 13,
   "metadata": {},
   "outputs": [],
   "source": [
    "test = test.drop(['vidid'], axis=1)"
   ]
  },
  {
   "cell_type": "code",
   "execution_count": 14,
   "metadata": {},
   "outputs": [],
   "source": [
    "X_train, X_val, y_train, y_val = train_test_split(X, y, test_size=0.2, \n",
    "                                                   random_state=42)\n",
    "y_train = y_train.to_numpy().ravel()\n",
    "y_val = y_val.to_numpy().ravel()"
   ]
  },
  {
   "cell_type": "code",
   "execution_count": 15,
   "metadata": {},
   "outputs": [],
   "source": [
    "# Normalize the data\n",
    "scaler = MinMaxScaler()\n",
    "X_train = scaler.fit_transform(X_train)\n",
    "X_val = scaler.transform(X_val)\n",
    "test = scaler.transform(test)"
   ]
  },
  {
   "cell_type": "code",
   "execution_count": 16,
   "metadata": {},
   "outputs": [],
   "source": [
    "def evaluate(model, X_val, y_val):\n",
    "    preds = model.predict(X_val)\n",
    "    print(\"Mean Squared Error: \", mean_squared_error(y_val, preds))\n",
    "    print(\"RMSE: \", np.sqrt(mean_squared_error(y_val, preds)))"
   ]
  },
  {
   "cell_type": "markdown",
   "metadata": {},
   "source": [
    "## Linear Regression"
   ]
  },
  {
   "cell_type": "code",
   "execution_count": 17,
   "metadata": {},
   "outputs": [
    {
     "name": "stdout",
     "output_type": "stream",
     "text": [
      "Mean Squared Error:  10869761930.328465\n",
      "RMSE:  104258.15042637417\n"
     ]
    }
   ],
   "source": [
    "model = LinearRegression()\n",
    "model.fit(X_train, y_train)\n",
    "evaluate(model, X_val, y_val)"
   ]
  },
  {
   "cell_type": "markdown",
   "metadata": {},
   "source": [
    "## Logistic Regression"
   ]
  },
  {
   "cell_type": "code",
   "execution_count": 18,
   "metadata": {},
   "outputs": [
    {
     "name": "stdout",
     "output_type": "stream",
     "text": [
      "Mean Squared Error:  10901313277.888319\n",
      "RMSE:  104409.35436007791\n"
     ]
    },
    {
     "name": "stderr",
     "output_type": "stream",
     "text": [
      "C:\\Users\\markn\\anaconda3\\envs\\tensorflow\\lib\\site-packages\\sklearn\\linear_model\\_logistic.py:764: ConvergenceWarning: lbfgs failed to converge (status=1):\n",
      "STOP: TOTAL NO. of ITERATIONS REACHED LIMIT.\n",
      "\n",
      "Increase the number of iterations (max_iter) or scale the data as shown in:\n",
      "    https://scikit-learn.org/stable/modules/preprocessing.html\n",
      "Please also refer to the documentation for alternative solver options:\n",
      "    https://scikit-learn.org/stable/modules/linear_model.html#logistic-regression\n",
      "  extra_warning_msg=_LOGISTIC_SOLVER_CONVERGENCE_MSG)\n"
     ]
    }
   ],
   "source": [
    "log_reg = LogisticRegression()\n",
    "log_reg.fit(X_train, y_train)\n",
    "evaluate(log_reg, X_val, y_val)"
   ]
  },
  {
   "cell_type": "markdown",
   "metadata": {},
   "source": [
    "## SVC"
   ]
  },
  {
   "cell_type": "code",
   "execution_count": 18,
   "metadata": {},
   "outputs": [
    {
     "name": "stdout",
     "output_type": "stream",
     "text": [
      "Mean Squared Error:  10901289279.001965\n",
      "RMSE:  104409.23943311705\n"
     ]
    }
   ],
   "source": [
    "svr_reg = SVR()\n",
    "svr_reg.fit(X_train, y_train)\n",
    "evaluate(svr_reg, X_val, y_val)"
   ]
  },
  {
   "cell_type": "markdown",
   "metadata": {},
   "source": [
    "## Decision Tree"
   ]
  },
  {
   "cell_type": "code",
   "execution_count": 19,
   "metadata": {},
   "outputs": [
    {
     "name": "stdout",
     "output_type": "stream",
     "text": [
      "Mean Squared Error:  12373804080.82616\n",
      "RMSE:  111237.60191961243\n"
     ]
    }
   ],
   "source": [
    "tree_reg = DecisionTreeRegressor()\n",
    "tree_reg.fit(X_train, y_train)\n",
    "evaluate(tree_reg, X_val, y_val)"
   ]
  },
  {
   "cell_type": "markdown",
   "metadata": {},
   "source": [
    "## Random forest"
   ]
  },
  {
   "cell_type": "code",
   "execution_count": 20,
   "metadata": {},
   "outputs": [
    {
     "name": "stdout",
     "output_type": "stream",
     "text": [
      "Mean Squared Error:  10000899303.192146\n",
      "RMSE:  100004.496414872\n"
     ]
    }
   ],
   "source": [
    "forest = RandomForestRegressor()\n",
    "forest.fit(X_train, y_train)\n",
    "evaluate(forest, X_val, y_val)"
   ]
  },
  {
   "cell_type": "markdown",
   "metadata": {},
   "source": [
    "## Neural Network"
   ]
  },
  {
   "cell_type": "code",
   "execution_count": 22,
   "metadata": {},
   "outputs": [
    {
     "data": {
      "text/plain": [
       "<keras.callbacks.callbacks.History at 0x14721e28508>"
      ]
     },
     "execution_count": 22,
     "metadata": {},
     "output_type": "execute_result"
    }
   ],
   "source": [
    "model = keras.models.Sequential([\n",
    "                keras.layers.Dense(16, input_shape=(7,), activation='relu'),\n",
    "                keras.layers.Dropout(0.2),\n",
    "                keras.layers.Dense(16, activation='relu'),\n",
    "                keras.layers.Dropout(0.2),\n",
    "                keras.layers.Dense(8, activation='relu'),\n",
    "                keras.layers.Dense(units=1)\n",
    "])\n",
    "model.compile(optimizer='adam', loss='mse', metrics=['mse'])\n",
    "model.fit(X_train, y_train, epochs=300, verbose=0)"
   ]
  },
  {
   "cell_type": "code",
   "execution_count": 23,
   "metadata": {},
   "outputs": [
    {
     "name": "stdout",
     "output_type": "stream",
     "text": [
      "Mean Squared Error:  10839951584.974098\n",
      "RMSE:  104115.08817157145\n"
     ]
    }
   ],
   "source": [
    "evaluate(model, X_val, y_val)"
   ]
  },
  {
   "cell_type": "markdown",
   "metadata": {},
   "source": [
    "## Save the model"
   ]
  },
  {
   "cell_type": "code",
   "execution_count": 21,
   "metadata": {
    "scrolled": true
   },
   "outputs": [
    {
     "data": {
      "text/plain": [
       "['ml_model.pkl']"
      ]
     },
     "execution_count": 21,
     "metadata": {},
     "output_type": "execute_result"
    }
   ],
   "source": [
    "joblib.dump(forest, \"ml_model.pkl\")"
   ]
  },
  {
   "cell_type": "markdown",
   "metadata": {},
   "source": [
    "## Load the model"
   ]
  },
  {
   "cell_type": "code",
   "execution_count": 22,
   "metadata": {},
   "outputs": [
    {
     "data": {
      "text/plain": [
       "array([   9.59, 1213.12,    1.37, ...,   10.92,  258.2 , 1138.9 ])"
      ]
     },
     "execution_count": 22,
     "metadata": {},
     "output_type": "execute_result"
    }
   ],
   "source": [
    "model = joblib.load('ml_model.pkl')\n",
    "preds = model.predict(test)\n",
    "preds"
   ]
  },
  {
   "cell_type": "code",
   "execution_count": 23,
   "metadata": {},
   "outputs": [],
   "source": [
    "preds = preds.astype(np.int16)"
   ]
  },
  {
   "cell_type": "markdown",
   "metadata": {},
   "source": [
    "## Store data in Dataframe"
   ]
  },
  {
   "cell_type": "code",
   "execution_count": 24,
   "metadata": {},
   "outputs": [],
   "source": [
    "preds = preds.reshape(1, -1)[0].tolist()\n",
    "result = {'adview': preds}\n",
    "pd.DataFrame(result).to_csv('predictions.csv', index=False)"
   ]
  },
  {
   "cell_type": "code",
   "execution_count": 25,
   "metadata": {},
   "outputs": [
    {
     "data": {
      "text/html": [
       "<div>\n",
       "<style scoped>\n",
       "    .dataframe tbody tr th:only-of-type {\n",
       "        vertical-align: middle;\n",
       "    }\n",
       "\n",
       "    .dataframe tbody tr th {\n",
       "        vertical-align: top;\n",
       "    }\n",
       "\n",
       "    .dataframe thead th {\n",
       "        text-align: right;\n",
       "    }\n",
       "</style>\n",
       "<table border=\"1\" class=\"dataframe\">\n",
       "  <thead>\n",
       "    <tr style=\"text-align: right;\">\n",
       "      <th></th>\n",
       "      <th>adview</th>\n",
       "    </tr>\n",
       "  </thead>\n",
       "  <tbody>\n",
       "    <tr>\n",
       "      <th>0</th>\n",
       "      <td>9</td>\n",
       "    </tr>\n",
       "    <tr>\n",
       "      <th>1</th>\n",
       "      <td>1213</td>\n",
       "    </tr>\n",
       "    <tr>\n",
       "      <th>2</th>\n",
       "      <td>1</td>\n",
       "    </tr>\n",
       "    <tr>\n",
       "      <th>3</th>\n",
       "      <td>62</td>\n",
       "    </tr>\n",
       "    <tr>\n",
       "      <th>4</th>\n",
       "      <td>8</td>\n",
       "    </tr>\n",
       "    <tr>\n",
       "      <th>...</th>\n",
       "      <td>...</td>\n",
       "    </tr>\n",
       "    <tr>\n",
       "      <th>8544</th>\n",
       "      <td>8</td>\n",
       "    </tr>\n",
       "    <tr>\n",
       "      <th>8545</th>\n",
       "      <td>7</td>\n",
       "    </tr>\n",
       "    <tr>\n",
       "      <th>8546</th>\n",
       "      <td>10</td>\n",
       "    </tr>\n",
       "    <tr>\n",
       "      <th>8547</th>\n",
       "      <td>258</td>\n",
       "    </tr>\n",
       "    <tr>\n",
       "      <th>8548</th>\n",
       "      <td>1138</td>\n",
       "    </tr>\n",
       "  </tbody>\n",
       "</table>\n",
       "<p>8549 rows × 1 columns</p>\n",
       "</div>"
      ],
      "text/plain": [
       "      adview\n",
       "0          9\n",
       "1       1213\n",
       "2          1\n",
       "3         62\n",
       "4          8\n",
       "...      ...\n",
       "8544       8\n",
       "8545       7\n",
       "8546      10\n",
       "8547     258\n",
       "8548    1138\n",
       "\n",
       "[8549 rows x 1 columns]"
      ]
     },
     "execution_count": 25,
     "metadata": {},
     "output_type": "execute_result"
    }
   ],
   "source": [
    "pd.read_csv('predictions.csv')"
   ]
  },
  {
   "cell_type": "code",
   "execution_count": null,
   "metadata": {},
   "outputs": [],
   "source": []
  }
 ],
 "metadata": {
  "kernelspec": {
   "display_name": "Python 3",
   "language": "python",
   "name": "python3"
  },
  "language_info": {
   "codemirror_mode": {
    "name": "ipython",
    "version": 3
   },
   "file_extension": ".py",
   "mimetype": "text/x-python",
   "name": "python",
   "nbconvert_exporter": "python",
   "pygments_lexer": "ipython3",
   "version": "3.7.7"
  }
 },
 "nbformat": 4,
 "nbformat_minor": 4
}
